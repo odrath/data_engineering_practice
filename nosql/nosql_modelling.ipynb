{
 "cells": [
  {
   "cell_type": "markdown",
   "metadata": {
    "editable": true
   },
   "source": [
    "# Part I. ETL Pipeline for Pre-Processing the Files"
   ]
  },
  {
   "cell_type": "markdown",
   "metadata": {
    "editable": true
   },
   "source": [
    "#### Importing Python packages "
   ]
  },
  {
   "cell_type": "code",
   "execution_count": 49,
   "metadata": {
    "editable": true
   },
   "outputs": [],
   "source": [
    "import pandas as pd\n",
    "import cassandra\n",
    "import re\n",
    "import os\n",
    "import glob\n",
    "import numpy as np\n",
    "import json\n",
    "import csv\n",
    "from tabulate import tabulate"
   ]
  },
  {
   "cell_type": "markdown",
   "metadata": {
    "editable": true
   },
   "source": [
    "#### Creating list of filepaths to process original event csv data files"
   ]
  },
  {
   "cell_type": "code",
   "execution_count": 50,
   "metadata": {
    "editable": true
   },
   "outputs": [
    {
     "name": "stdout",
     "output_type": "stream",
     "text": [
      "/home/workspace\n"
     ]
    }
   ],
   "source": [
    "# checking the current working directory\n",
    "print(os.getcwd())\n",
    "\n",
    "# Getting the current folder and subfolder event data\n",
    "filepath = os.getcwd() + '/event_data'\n",
    "\n",
    "# Creating a for loop to create a list of files and collect each filepath\n",
    "for root, dirs, files in os.walk(filepath):\n",
    "    \n",
    "# Joining the file path and roots with the subdirectories using glob\n",
    "    file_path_list = glob.glob(os.path.join(root,'*'))"
   ]
  },
  {
   "cell_type": "markdown",
   "metadata": {
    "editable": true
   },
   "source": [
    "#### Processing the files to create the data file csv that will be used for Apache Casssandra tables"
   ]
  },
  {
   "cell_type": "code",
   "execution_count": 52,
   "metadata": {
    "editable": true
   },
   "outputs": [],
   "source": [
    "# initiating an empty list of rows that will be generated from each file\n",
    "full_data_rows_list = [] \n",
    "    \n",
    "# for every filepath in the file path list \n",
    "for f in file_path_list:\n",
    "\n",
    "# reading csv file \n",
    "    with open(f, 'r', encoding = 'utf8', newline='') as csvfile: \n",
    "        # creating a csv reader object \n",
    "        csvreader = csv.reader(csvfile) \n",
    "        next(csvreader)\n",
    "        \n",
    " # extracting each data row one by one and append it        \n",
    "        for line in csvreader:\n",
    "            #print(line)\n",
    "            full_data_rows_list.append(line) \n",
    "            \n",
    "# creating a smaller event data csv file called event_datafile_full csv that will be used to insert data into the \\\n",
    "# Apache Cassandra tables\n",
    "csv.register_dialect('myDialect', quoting=csv.QUOTE_ALL, skipinitialspace=True)\n",
    "\n",
    "with open('event_datafile_new.csv', 'w', encoding = 'utf8', newline='') as f:\n",
    "    writer = csv.writer(f, dialect='myDialect')\n",
    "    writer.writerow(['artist','firstName','gender','itemInSession','lastName','length',\\\n",
    "                'level','location','sessionId','song','userId'])\n",
    "    for row in full_data_rows_list:\n",
    "        if (row[0] == ''):\n",
    "            continue\n",
    "        writer.writerow((row[0], row[2], row[3], row[4], row[5], row[6], row[7], row[8], row[12], row[13], row[16]))\n"
   ]
  },
  {
   "cell_type": "code",
   "execution_count": 53,
   "metadata": {
    "editable": true
   },
   "outputs": [
    {
     "name": "stdout",
     "output_type": "stream",
     "text": [
      "6821\n"
     ]
    }
   ],
   "source": [
    "# checking the number of rows in your csv file\n",
    "with open('event_datafile_new.csv', 'r', encoding = 'utf8') as f:\n",
    "    print(sum(1 for line in f))"
   ]
  },
  {
   "cell_type": "markdown",
   "metadata": {
    "editable": true
   },
   "source": [
    "# Part II. The Apache Cassandra coding portion of the project. \n",
    "\n",
    "## The CSV file titled <font color=red>event_datafile_new.csv</font>, located within the Workspace directory.  The event_datafile_new.csv contains the following columns: \n",
    "- artist \n",
    "- firstName of user\n",
    "- gender of user\n",
    "- item number in session\n",
    "- last name of user\n",
    "- length of the song\n",
    "- level (paid or free song)\n",
    "- location of the user\n",
    "- sessionId\n",
    "- song title\n",
    "- userId\n",
    "\n",
    "The image below is a screenshot of what the denormalized data appears like in the <font color=red>**event_datafile_new.csv**</font> after the code above is run:<br>\n",
    "\n",
    "<img src=\"images/image_event_datafile_new.jpg\">\n"
   ]
  },
  {
   "cell_type": "markdown",
   "metadata": {
    "editable": true
   },
   "source": [
    "#### Creating a Cluster"
   ]
  },
  {
   "cell_type": "code",
   "execution_count": 54,
   "metadata": {
    "editable": true
   },
   "outputs": [],
   "source": [
    "# Setting up a connection to a Cassandra instance on the local machine \n",
    "# (127.0.0.1)\n",
    "\n",
    "from cassandra.cluster import Cluster\n",
    "cluster = Cluster()\n",
    "\n",
    "# Setting up a session to establish connection and begin executing queries\n",
    "session = cluster.connect()"
   ]
  },
  {
   "cell_type": "markdown",
   "metadata": {
    "editable": true
   },
   "source": [
    "#### Creating Keyspace"
   ]
  },
  {
   "cell_type": "code",
   "execution_count": 55,
   "metadata": {
    "editable": true
   },
   "outputs": [],
   "source": [
    "try:\n",
    "    session.execute(\"\"\"\n",
    "    CREATE KEYSPACE IF NOT EXISTS sparkify \n",
    "    WITH REPLICATION = \n",
    "    { 'class' : 'SimpleStrategy', 'replication_factor' : 1 }\"\"\"\n",
    ")\n",
    "\n",
    "except Exception as e:\n",
    "    print(e)"
   ]
  },
  {
   "cell_type": "markdown",
   "metadata": {
    "editable": true
   },
   "source": [
    "#### Setting Keyspace"
   ]
  },
  {
   "cell_type": "code",
   "execution_count": 56,
   "metadata": {
    "editable": true
   },
   "outputs": [],
   "source": [
    "try:\n",
    "    session.set_keyspace('sparkify')\n",
    "except Exception as e:\n",
    "    print(e)\n"
   ]
  },
  {
   "cell_type": "markdown",
   "metadata": {
    "editable": true
   },
   "source": [
    "## The Apache Cassandra tables below have been created to cater for the following queries:"
   ]
  },
  {
   "cell_type": "markdown",
   "metadata": {
    "editable": true
   },
   "source": [
    "\n",
    "\n",
    "### 1. The analyst wants to find the artist, song title and song's length in the music app history that was heard during  sessionId = 338, and itemInSession  = 4\n",
    "\n",
    "For this query:  \n",
    "- the data is partitioned by *session_id* \n",
    "- the clustering column *item_in_session* is added to ensure the uniqueness of the PRIMARY KEY.\n"
   ]
  },
  {
   "cell_type": "code",
   "execution_count": 57,
   "metadata": {
    "editable": true
   },
   "outputs": [],
   "source": [
    "# Creating the table\n",
    "table1 = \"CREATE TABLE IF NOT EXISTS songs_in_session\"\n",
    "table1 = table1 + \"(session_id int, item_in_session int, artist_name text,\\\n",
    "                    song_title text, song_length float,\\\n",
    "                    PRIMARY KEY (session_id,item_in_session))\"\n",
    "try:\n",
    "    session.execute(table1)\n",
    "except Exception as e:\n",
    "    print(e)          "
   ]
  },
  {
   "cell_type": "code",
   "execution_count": 58,
   "metadata": {
    "editable": true
   },
   "outputs": [],
   "source": [
    "# Setting up the csv file\n",
    "file = 'event_datafile_new.csv'\n",
    "\n",
    "with open(file, encoding = 'utf8') as f:\n",
    "    csvreader = csv.reader(f)\n",
    "    next(csvreader) # skip header\n",
    "    for line in csvreader:\n",
    "# Inserting values into the songs_in_sessions table\n",
    "        insert1 = \"INSERT INTO songs_in_session (session_id, item_in_session, artist_name, song_title, song_length)\"\n",
    "        insert1 = insert1 + \" VALUES (%s, %s, %s, %s, %s)\"\n",
    "         # Setting up the correct order of values and data types\n",
    "        session.execute(insert1, (int(line[8]), int(line[3]), line[0], line[9], float(line[5])))"
   ]
  },
  {
   "cell_type": "markdown",
   "metadata": {
    "editable": true
   },
   "source": [
    "#### Running a SELECT statement to verify that the data have been inserted into songs_in_session table and to answer the business question specified above."
   ]
  },
  {
   "cell_type": "code",
   "execution_count": 59,
   "metadata": {
    "editable": true,
    "scrolled": true
   },
   "outputs": [
    {
     "name": "stdout",
     "output_type": "stream",
     "text": [
      "+---------------+---------------------------------+---------------+\n",
      "| artist_name   | song_title                      |   song_length |\n",
      "|---------------+---------------------------------+---------------|\n",
      "| Faithless     | Music Matters (Mark Knight Dub) |       495.307 |\n",
      "+---------------+---------------------------------+---------------+\n"
     ]
    }
   ],
   "source": [
    "# CQL SELECT statement to run\n",
    "query1 = \"select artist_name, song_title, song_length  FROM songs_in_session WHERE session_id = 338 AND item_in_session = 4\"\n",
    "try:\n",
    "    rows = session.execute(query1)\n",
    "except Exception as e:\n",
    "    print(e)\n",
    "# Printing the data in a tabular form    \n",
    "column_names1 = ['artist_name', 'song_title', 'song_length']\n",
    "\n",
    "df1 = pd.DataFrame(columns = column_names1)    \n",
    "for row in rows:\n",
    "    to_append = [row.artist_name, row.song_title, row.song_length]\n",
    "    df1_length = len(df1)\n",
    "    df1.loc[df1_length] = to_append  \n",
    "print (tabulate(df1, showindex=False, headers=df1.columns, tablefmt = 'psql'))"
   ]
  },
  {
   "cell_type": "markdown",
   "metadata": {
    "editable": true
   },
   "source": [
    "\n",
    "### 2. The analyst wants to find the following: name of artist, song (sorted by itemInSession) and user (first and last name) for userid = 10, sessionid = 182\n",
    "\n",
    "For this query:  \n",
    "- the data is partitioned by *user_id* \n",
    "- the clustering columns *session_id* and *item_in_session* are added to ensure the uniqueness of the PRIMARY KEY and to sort the data.\n"
   ]
  },
  {
   "cell_type": "code",
   "execution_count": 60,
   "metadata": {
    "editable": true
   },
   "outputs": [],
   "source": [
    "# Creating the table\n",
    "table2 = \"CREATE TABLE IF NOT EXISTS user_sessions\"\n",
    "table2 = table2 + \"(user_id int, session_id int, item_in_session int, artist_name text,\\\n",
    "                    song_title text, first_name text, last_name text,\\\n",
    "                    PRIMARY KEY (user_id, session_id,item_in_session))\"\n",
    "try:\n",
    "    session.execute(table2)\n",
    "except Exception as e:\n",
    "    print(e)                 "
   ]
  },
  {
   "cell_type": "code",
   "execution_count": 61,
   "metadata": {
    "editable": true
   },
   "outputs": [],
   "source": [
    "# Setting up the csv file\n",
    "file = 'event_datafile_new.csv'\n",
    "\n",
    "with open(file, encoding = 'utf8') as f:\n",
    "    csvreader = csv.reader(f)\n",
    "    next(csvreader) # skip header\n",
    "    for line in csvreader:\n",
    "# Inserting values into the user_sessions table\n",
    "        insert2 = \"INSERT INTO user_sessions (user_id, session_id, item_in_session, artist_name, song_title, first_name, last_name)\"\n",
    "        insert2 = insert2 + \" VALUES (%s, %s, %s, %s, %s, %s, %s)\"\n",
    "        # Setting up the correct order of values and data types\n",
    "        session.execute(insert2, (int(line[10]), int(line[8]), int(line[3]), line[0], line[9], line[1], line[4]))                 "
   ]
  },
  {
   "cell_type": "markdown",
   "metadata": {
    "editable": true
   },
   "source": [
    "#### Running a SELECT statement to verify that the data have been inserted into user_sessions table and to answer the business question specified above."
   ]
  },
  {
   "cell_type": "code",
   "execution_count": 62,
   "metadata": {
    "editable": true
   },
   "outputs": [
    {
     "name": "stdout",
     "output_type": "stream",
     "text": [
      "+-------------+-------------------+------------------------------------------------------+\n",
      "| user        | artist_name       | song_title                                           |\n",
      "|-------------+-------------------+------------------------------------------------------|\n",
      "| Sylvie Cruz | Down To The Bone  | Keep On Keepin' On                                   |\n",
      "| Sylvie Cruz | Three Drives      | Greece 2000                                          |\n",
      "| Sylvie Cruz | Sebastien Tellier | Kilometer                                            |\n",
      "| Sylvie Cruz | Lonnie Gordon     | Catch You Baby (Steve Pitron & Max Sanna Radio Edit) |\n",
      "+-------------+-------------------+------------------------------------------------------+\n"
     ]
    }
   ],
   "source": [
    "# CQL SELECT statement to run\n",
    "query2 = \"select first_name, last_name, artist_name, song_title FROM user_sessions WHERE user_id = 10 AND session_id = 182\"\n",
    "try:\n",
    "    rows = session.execute(query2)\n",
    "except Exception as e:\n",
    "    print(e)\n",
    "# Printing the data in a tabular form     \n",
    "column_names2 = ['user', 'artist_name', 'song_title']\n",
    "\n",
    "df2 = pd.DataFrame(columns = ['user', 'artist_name', 'song_title'])  \n",
    "\n",
    "for row in rows:\n",
    "    to_append = [row.first_name + ' ' + row.last_name, row.artist_name, row.song_title]\n",
    "    df2_length = len(df2)\n",
    "    df2.loc[df2_length] = to_append  \n",
    "print (tabulate(df2, showindex=False, headers=df2.columns, tablefmt = 'psql'))"
   ]
  },
  {
   "cell_type": "markdown",
   "metadata": {
    "editable": true
   },
   "source": [
    "### 3. The analyst wants to find every user name (first and last) in my music app history who listened to the song 'All Hands Against His Own'\n",
    "\n",
    "For this query:  \n",
    "- the data is partitioned by *song_title* \n",
    "- the clustering columns *session_id* and *item_in_session* are added to ensure the uniqueness of the PRIMARY KEY."
   ]
  },
  {
   "cell_type": "code",
   "execution_count": 63,
   "metadata": {
    "editable": true
   },
   "outputs": [],
   "source": [
    "# Creating the table\n",
    "table3 = \"CREATE TABLE IF NOT EXISTS song_data\"\n",
    "table3 = table3 + \"(song_title text, session_id int, item_in_session int,\\\n",
    "                    first_name text, last_name text,\\\n",
    "                    PRIMARY KEY (song_title, session_id,item_in_session))\"\n",
    "try:\n",
    "    session.execute(table3)\n",
    "except Exception as e:\n",
    "    print(e)    "
   ]
  },
  {
   "cell_type": "code",
   "execution_count": 64,
   "metadata": {
    "editable": true
   },
   "outputs": [],
   "source": [
    "# Setting up the csv file\n",
    "file = 'event_datafile_new.csv'\n",
    "\n",
    "with open(file, encoding = 'utf8') as f:\n",
    "    csvreader = csv.reader(f)\n",
    "    next(csvreader) # skip header\n",
    "    for line in csvreader:\n",
    "# Inserting values into the song_data table\n",
    "        insert3 = \"INSERT INTO song_data (song_title, session_id, item_in_session, first_name, last_name)\"\n",
    "        insert3 = insert3 + \" VALUES (%s, %s, %s, %s, %s)\"\n",
    "        # Setting up the correct order of values and data types\n",
    "        session.execute(insert3, (line[9],int(line[8]), int(line[3]), line[1], line[4]))                 "
   ]
  },
  {
   "cell_type": "markdown",
   "metadata": {
    "editable": true
   },
   "source": [
    "#### Running a SELECT statement to verify that the data have been inserted into song_data table and to answer the business question specified above."
   ]
  },
  {
   "cell_type": "code",
   "execution_count": 65,
   "metadata": {
    "editable": true
   },
   "outputs": [
    {
     "name": "stdout",
     "output_type": "stream",
     "text": [
      "+------------------+\n",
      "| user             |\n",
      "|------------------|\n",
      "| Sara Johnson     |\n",
      "| Jacqueline Lynch |\n",
      "| Tegan Levine     |\n",
      "+------------------+\n"
     ]
    }
   ],
   "source": [
    "# CQL SELECT statement to run\n",
    "query3 = \"select first_name, last_name FROM song_data WHERE song_title = 'All Hands Against His Own'\"\n",
    "try:\n",
    "    rows = session.execute(query3)\n",
    "except Exception as e:\n",
    "    print(e)\n",
    "    \n",
    "# Printing the data in a tabular form     \n",
    "column_names3 = ['user']\n",
    "\n",
    "df3 = pd.DataFrame(columns = column_names3)   \n",
    "\n",
    "for row in rows:\n",
    "    to_append = [row.first_name + ' ' + row.last_name]\n",
    "    df3_length = len(df3)\n",
    "    df3.loc[df3_length] = to_append  \n",
    "print (tabulate(df3, showindex=False, headers=df3.columns, tablefmt = 'psql'))"
   ]
  },
  {
   "cell_type": "markdown",
   "metadata": {
    "editable": true
   },
   "source": [
    "### Dropping the tables before closing out the sessions"
   ]
  },
  {
   "cell_type": "code",
   "execution_count": 66,
   "metadata": {
    "editable": true
   },
   "outputs": [],
   "source": [
    "query = \"DROP TABLE songs_in_session\"\n",
    "try:\n",
    "    rows = session.execute(query)\n",
    "except Exception as e:\n",
    "    print(e)\n",
    "    \n",
    "query = \"DROP TABLE user_sessions\"\n",
    "try:\n",
    "    rows = session.execute(query)\n",
    "except Exception as e:\n",
    "    print(e)\n",
    "    \n",
    "query = \"DROP TABLE song_data\"\n",
    "try:\n",
    "    rows = session.execute(query)\n",
    "except Exception as e:\n",
    "    print(e)"
   ]
  },
  {
   "cell_type": "code",
   "execution_count": 67,
   "metadata": {
    "editable": true
   },
   "outputs": [],
   "source": [
    "session.shutdown()\n",
    "cluster.shutdown()"
   ]
  },
  {
   "cell_type": "code",
   "execution_count": null,
   "metadata": {
    "editable": true
   },
   "outputs": [],
   "source": []
  }
 ],
 "metadata": {
  "kernelspec": {
   "display_name": "Python 3",
   "language": "python",
   "name": "python3"
  },
  "language_info": {
   "codemirror_mode": {
    "name": "ipython",
    "version": 3
   },
   "file_extension": ".py",
   "mimetype": "text/x-python",
   "name": "python",
   "nbconvert_exporter": "python",
   "pygments_lexer": "ipython3",
   "version": "3.6.3"
  }
 },
 "nbformat": 4,
 "nbformat_minor": 4
}
